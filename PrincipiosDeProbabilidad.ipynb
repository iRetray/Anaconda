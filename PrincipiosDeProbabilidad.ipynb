{
 "cells": [
  {
   "cell_type": "markdown",
   "metadata": {},
   "source": [
    "# Probabilidad y Estadistica Inferencial"
   ]
  },
  {
   "cell_type": "markdown",
   "metadata": {},
   "source": [
    "## Experimento Aleatorio"
   ]
  },
  {
   "cell_type": "markdown",
   "metadata": {},
   "source": [
    "Un experimento aleatorio corresponde con la reproducción de una fenomeno, sobre cuyos resultados hay incertidumbre, esto implica que si el dicho fenomeno se repite un número indefinido de veces bajo las \"mismas condiciones\", no necesariamente se obtendran los mismos resultados."
   ]
  },
  {
   "cell_type": "markdown",
   "metadata": {},
   "source": [
    "## Tecnicas de conteo"
   ]
  },
  {
   "cell_type": "markdown",
   "metadata": {},
   "source": [
    "$\\textbf{Definiciones}$"
   ]
  },
  {
   "cell_type": "markdown",
   "metadata": {},
   "source": [
    "El lanzamiento de un dado consiste en uno de los experimentos aleatorios mas famosos"
   ]
  },
  {
   "cell_type": "code",
   "execution_count": 8,
   "metadata": {},
   "outputs": [],
   "source": [
    "import itertools"
   ]
  },
  {
   "cell_type": "code",
   "execution_count": 2,
   "metadata": {},
   "outputs": [],
   "source": [
    "def potencia(c): # el atributo de entrada C es una lista de objetos\n",
    "    if len(c) == 0:\n",
    "        return [[]]\n",
    "    r = potencia(c[:-1])\n",
    "    return r + [s + [c[-1]] for s in r]\n",
    "def ordenado(c):\n",
    "    for e in sorted(c, key=lambda s: (len(s), s)):\n",
    "        print(e)"
   ]
  },
  {
   "cell_type": "code",
   "execution_count": null,
   "metadata": {},
   "outputs": [],
   "source": [
    "listaPersonas = [\"Julian\", \"Camilo\", \"Andres\"]\n",
    "ordenado(potencia([1, 2, 3]))"
   ]
  },
  {
   "cell_type": "code",
   "execution_count": 3,
   "metadata": {},
   "outputs": [],
   "source": [
    "def combinaciones(c, n): # el atributo de entrada C es una lista de objetos y c es la forma de mezclar estos datos, en grupos de n\n",
    "    m = len(c)\n",
    "    #print(factorial(m)/(factorial(m-n)*factorial(n)))\n",
    "    return(s for s in potencia(c) if len(s) == n)"
   ]
  },
  {
   "cell_type": "code",
   "execution_count": 9,
   "metadata": {
    "tags": []
   },
   "outputs": [
    {
     "output_type": "stream",
     "name": "stdout",
     "text": "[1, 2]\n[1, 3]\n[2, 3]\n"
    }
   ],
   "source": [
    "ordenado(combinaciones([1, 2, 3], 2))"
   ]
  },
  {
   "cell_type": "code",
   "execution_count": 10,
   "metadata": {},
   "outputs": [],
   "source": [
    "from math import factorial"
   ]
  },
  {
   "cell_type": "code",
   "execution_count": 6,
   "metadata": {},
   "outputs": [],
   "source": [
    "def ncombinaciones(m,n):\n",
    "    return(factorial(m)/(factorial(m-n)*factorial(n)))"
   ]
  },
  {
   "cell_type": "code",
   "execution_count": null,
   "metadata": {},
   "outputs": [],
   "source": [
    "ncombinaciones(3,2)"
   ]
  },
  {
   "cell_type": "code",
   "execution_count": null,
   "metadata": {},
   "outputs": [],
   "source": [
    "def inserta(x, lst, i):\n",
    "    return(lst[:i] + [x] + lst[i:])"
   ]
  },
  {
   "cell_type": "code",
   "execution_count": null,
   "metadata": {},
   "outputs": [],
   "source": [
    "def insertam(x,lst):\n",
    "    return(inserta(x, lst, i) for i in range(len(lst) + 1))"
   ]
  },
  {
   "cell_type": "code",
   "execution_count": null,
   "metadata": {},
   "outputs": [],
   "source": [
    "def permutan(c):\n",
    "    if len(c) == 0:\n",
    "        return [[]]\n",
    "    #print(len(list(itertools.permutations(c))))\n",
    "    return(list(itertools.permutations(c))) "
   ]
  },
  {
   "cell_type": "code",
   "execution_count": null,
   "metadata": {},
   "outputs": [],
   "source": [
    "c = ['Daniel', 'Ruben', 'Carlos', 'Salome', 5]"
   ]
  },
  {
   "cell_type": "code",
   "execution_count": null,
   "metadata": {},
   "outputs": [],
   "source": [
    "permutan(c)"
   ]
  },
  {
   "cell_type": "code",
   "execution_count": null,
   "metadata": {},
   "outputs": [],
   "source": [
    "def permutaciones(c, n):\n",
    "    m = len(c)\n",
    "    print(factorial(m)/factorial(m-n))\n",
    "    return sum([permutan(s) for s in combinaciones(c, n)], [])"
   ]
  },
  {
   "cell_type": "code",
   "execution_count": null,
   "metadata": {},
   "outputs": [],
   "source": [
    "permutaciones(c, 3)"
   ]
  },
  {
   "cell_type": "code",
   "execution_count": 11,
   "metadata": {
    "tags": []
   },
   "outputs": [
    {
     "output_type": "stream",
     "name": "stdout",
     "text": "[1, 2, 3]\n[1, 2, 4]\n[1, 2, 5]\n[1, 2, 6]\n[1, 3, 4]\n[1, 3, 5]\n[1, 3, 6]\n[1, 4, 5]\n[1, 4, 6]\n[1, 5, 6]\n[2, 3, 4]\n[2, 3, 5]\n[2, 3, 6]\n[2, 4, 5]\n[2, 4, 6]\n[2, 5, 6]\n[3, 4, 5]\n[3, 4, 6]\n[3, 5, 6]\n[4, 5, 6]\n"
    },
    {
     "output_type": "execute_result",
     "data": {
      "text/plain": "20.0"
     },
     "metadata": {},
     "execution_count": 11
    }
   ],
   "source": [
    "problema1 = [1,2,3,4,5,6]\n",
    "ordenado(combinaciones(problema1,3))\n",
    "ncombinaciones(6,3)"
   ]
  },
  {
   "cell_type": "code",
   "execution_count": 23,
   "metadata": {
    "tags": []
   },
   "outputs": [
    {
     "output_type": "stream",
     "name": "stdout",
     "text": "[&#39;AB+&#39;, &#39;Alta&#39;]\n[&#39;AB+&#39;, &#39;Media&#39;]\n[&#39;AB+&#39;, &#39;Alta&#39;]\n[&#39;AB-&#39;, &#39;Alta&#39;]\n[&#39;AB-&#39;, &#39;Media&#39;]\n[&#39;AB-&#39;, &#39;Alta&#39;]\n[&#39;A+&#39;, &#39;Alta&#39;]\n[&#39;A+&#39;, &#39;Media&#39;]\n[&#39;A+&#39;, &#39;Alta&#39;]\n[&#39;A-&#39;, &#39;Alta&#39;]\n[&#39;A-&#39;, &#39;Media&#39;]\n[&#39;A-&#39;, &#39;Alta&#39;]\n[&#39;B+&#39;, &#39;Alta&#39;]\n[&#39;B+&#39;, &#39;Media&#39;]\n[&#39;B+&#39;, &#39;Alta&#39;]\n[&#39;B-&#39;, &#39;Alta&#39;]\n[&#39;B-&#39;, &#39;Media&#39;]\n[&#39;B-&#39;, &#39;Alta&#39;]\n[&#39;O+&#39;, &#39;Alta&#39;]\n[&#39;O+&#39;, &#39;Media&#39;]\n[&#39;O+&#39;, &#39;Alta&#39;]\n[&#39;O-&#39;, &#39;Alta&#39;]\n[&#39;O-&#39;, &#39;Media&#39;]\n[&#39;O-&#39;, &#39;Alta&#39;]\n24\n"
    }
   ],
   "source": [
    "tiposDeSangre = [\"AB+\",\"AB-\",\"A+\",\"A-\",\"B+\",\"B-\",\"O+\",\"O-\"]\n",
    "tipoDePresion = [\"Alta\",\"Media\",\"Alta\"]\n",
    "multiplicadores(tiposDeSangre,tipoDePresion)\n",
    "nMultiplicadores(tiposDeSangre,tipoDePresion)"
   ]
  },
  {
   "source": [
    "def multiplicadores(lista1, lista2):\n",
    "    for item in lista1:\n",
    "        for subitem in lista2:\n",
    "            combinacion = []\n",
    "            combinacion.append(item)\n",
    "            combinacion.append(subitem)\n",
    "            print(combinacion)\n",
    "def nMultiplicadores(lista1, lista2):\n",
    "    nCombinaciones = len(lista1)*len(lista2)\n",
    "    print(nCombinaciones)"
   ],
   "cell_type": "code",
   "metadata": {},
   "execution_count": 22,
   "outputs": []
  },
  {
   "cell_type": "code",
   "execution_count": null,
   "metadata": {},
   "outputs": [],
   "source": []
  }
 ],
 "metadata": {
  "kernelspec": {
   "display_name": "Python 3",
   "language": "python",
   "name": "python3"
  },
  "language_info": {
   "codemirror_mode": {
    "name": "ipython",
    "version": 3
   },
   "file_extension": ".py",
   "mimetype": "text/x-python",
   "name": "python",
   "nbconvert_exporter": "python",
   "pygments_lexer": "ipython3",
   "version": "3.8.3-final"
  }
 },
 "nbformat": 4,
 "nbformat_minor": 4
}